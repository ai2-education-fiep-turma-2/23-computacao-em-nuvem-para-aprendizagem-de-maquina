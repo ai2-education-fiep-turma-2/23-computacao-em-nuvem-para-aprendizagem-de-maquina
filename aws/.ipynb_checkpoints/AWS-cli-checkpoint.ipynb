{
 "cells": [
  {
   "cell_type": "code",
   "execution_count": 54,
   "metadata": {},
   "outputs": [],
   "source": [
    "#aws cli Python"
   ]
  },
  {
   "cell_type": "code",
   "execution_count": 55,
   "metadata": {},
   "outputs": [],
   "source": [
    "import boto3\n",
    "import json"
   ]
  },
  {
   "cell_type": "markdown",
   "metadata": {},
   "source": [
    "## boto3 lib que provê suporte a manipulação de instâncias EC2 via Python"
   ]
  },
  {
   "cell_type": "code",
   "execution_count": 56,
   "metadata": {},
   "outputs": [
    {
     "data": {
      "text/plain": [
       "botocore.client.EC2"
      ]
     },
     "execution_count": 56,
     "metadata": {},
     "output_type": "execute_result"
    }
   ],
   "source": [
    "ec2 = boto3.client('ec2')\n",
    "type(ec2)"
   ]
  },
  {
   "cell_type": "markdown",
   "metadata": {},
   "source": [
    "## obtendo informação a respeito das instÂncias"
   ]
  },
  {
   "cell_type": "code",
   "execution_count": 61,
   "metadata": {},
   "outputs": [
    {
     "name": "stdout",
     "output_type": "stream",
     "text": [
      "{'Reservations': [{'Groups': [], 'Instances': [{'AmiLaunchIndex': 0, 'ImageId': 'ami-05373777d08895384', 'InstanceId': 'i-086c823ec7054b54e', 'InstanceType': 't2.micro', 'KeyName': 'silvio', 'LaunchTime': datetime.datetime(2021, 5, 17, 12, 14, 32, tzinfo=tzutc()), 'Monitoring': {'State': 'disabled'}, 'Placement': {'AvailabilityZone': 'sa-east-1a', 'GroupName': '', 'Tenancy': 'default'}, 'PrivateDnsName': 'ip-172-31-10-198.sa-east-1.compute.internal', 'PrivateIpAddress': '172.31.10.198', 'ProductCodes': [], 'PublicDnsName': '', 'State': {'Code': 80, 'Name': 'stopped'}, 'StateTransitionReason': 'User initiated (2021-05-17 12:21:19 GMT)', 'SubnetId': 'subnet-19204a7f', 'VpcId': 'vpc-ff619899', 'Architecture': 'x86_64', 'BlockDeviceMappings': [{'DeviceName': '/dev/xvda', 'Ebs': {'AttachTime': datetime.datetime(2021, 5, 4, 15, 2, 59, tzinfo=tzutc()), 'DeleteOnTermination': True, 'Status': 'attached', 'VolumeId': 'vol-084649530ef1b9312'}}], 'ClientToken': '', 'EbsOptimized': False, 'EnaSupport': True, 'Hypervisor': 'xen', 'NetworkInterfaces': [{'Attachment': {'AttachTime': datetime.datetime(2021, 5, 4, 15, 2, 57, tzinfo=tzutc()), 'AttachmentId': 'eni-attach-0d3c126262a5af2c2', 'DeleteOnTermination': True, 'DeviceIndex': 0, 'Status': 'attached'}, 'Description': '', 'Groups': [{'GroupName': 'launch-wizard-1', 'GroupId': 'sg-082590159d5abc5ea'}], 'Ipv6Addresses': [], 'MacAddress': '02:f2:9b:74:ef:4c', 'NetworkInterfaceId': 'eni-083787d125d8305d3', 'OwnerId': '398071662916', 'PrivateDnsName': 'ip-172-31-10-198.sa-east-1.compute.internal', 'PrivateIpAddress': '172.31.10.198', 'PrivateIpAddresses': [{'Primary': True, 'PrivateDnsName': 'ip-172-31-10-198.sa-east-1.compute.internal', 'PrivateIpAddress': '172.31.10.198'}], 'SourceDestCheck': True, 'Status': 'in-use', 'SubnetId': 'subnet-19204a7f', 'VpcId': 'vpc-ff619899', 'InterfaceType': 'interface'}], 'RootDeviceName': '/dev/xvda', 'RootDeviceType': 'ebs', 'SecurityGroups': [{'GroupName': 'launch-wizard-1', 'GroupId': 'sg-082590159d5abc5ea'}], 'SourceDestCheck': True, 'StateReason': {'Code': 'Client.UserInitiatedShutdown', 'Message': 'Client.UserInitiatedShutdown: User initiated shutdown'}, 'VirtualizationType': 'hvm', 'CpuOptions': {'CoreCount': 1, 'ThreadsPerCore': 1}, 'CapacityReservationSpecification': {'CapacityReservationPreference': 'open'}, 'HibernationOptions': {'Configured': False}, 'MetadataOptions': {'State': 'applied', 'HttpTokens': 'optional', 'HttpPutResponseHopLimit': 1, 'HttpEndpoint': 'enabled'}}], 'OwnerId': '398071662916', 'ReservationId': 'r-0ee255349284e1725'}, {'Groups': [], 'Instances': [{'AmiLaunchIndex': 0, 'ImageId': 'ami-05373777d08895384', 'InstanceId': 'i-0b353d08ba1f647fb', 'InstanceType': 't2.micro', 'KeyName': 'silvio', 'LaunchTime': datetime.datetime(2021, 5, 4, 21, 8, 11, tzinfo=tzutc()), 'Monitoring': {'State': 'disabled'}, 'Placement': {'AvailabilityZone': 'sa-east-1a', 'GroupName': '', 'Tenancy': 'default'}, 'PrivateDnsName': 'ip-172-31-9-141.sa-east-1.compute.internal', 'PrivateIpAddress': '172.31.9.141', 'ProductCodes': [], 'PublicDnsName': '', 'State': {'Code': 80, 'Name': 'stopped'}, 'StateTransitionReason': 'User initiated (2021-05-04 23:19:31 GMT)', 'SubnetId': 'subnet-19204a7f', 'VpcId': 'vpc-ff619899', 'Architecture': 'x86_64', 'BlockDeviceMappings': [{'DeviceName': '/dev/xvda', 'Ebs': {'AttachTime': datetime.datetime(2021, 5, 4, 21, 8, 12, tzinfo=tzutc()), 'DeleteOnTermination': True, 'Status': 'attached', 'VolumeId': 'vol-04503ddf35899e461'}}], 'ClientToken': '', 'EbsOptimized': False, 'EnaSupport': True, 'Hypervisor': 'xen', 'NetworkInterfaces': [{'Attachment': {'AttachTime': datetime.datetime(2021, 5, 4, 21, 8, 11, tzinfo=tzutc()), 'AttachmentId': 'eni-attach-07a269b7c42ce06a0', 'DeleteOnTermination': True, 'DeviceIndex': 0, 'Status': 'attached'}, 'Description': '', 'Groups': [{'GroupName': 'launch-wizard-2', 'GroupId': 'sg-0cc2d1a0120326eb4'}], 'Ipv6Addresses': [], 'MacAddress': '02:a4:21:67:8e:94', 'NetworkInterfaceId': 'eni-002b26c035bb480d2', 'OwnerId': '398071662916', 'PrivateDnsName': 'ip-172-31-9-141.sa-east-1.compute.internal', 'PrivateIpAddress': '172.31.9.141', 'PrivateIpAddresses': [{'Primary': True, 'PrivateDnsName': 'ip-172-31-9-141.sa-east-1.compute.internal', 'PrivateIpAddress': '172.31.9.141'}], 'SourceDestCheck': True, 'Status': 'in-use', 'SubnetId': 'subnet-19204a7f', 'VpcId': 'vpc-ff619899', 'InterfaceType': 'interface'}], 'RootDeviceName': '/dev/xvda', 'RootDeviceType': 'ebs', 'SecurityGroups': [{'GroupName': 'launch-wizard-2', 'GroupId': 'sg-0cc2d1a0120326eb4'}], 'SourceDestCheck': True, 'StateReason': {'Code': 'Client.UserInitiatedShutdown', 'Message': 'Client.UserInitiatedShutdown: User initiated shutdown'}, 'VirtualizationType': 'hvm', 'CpuOptions': {'CoreCount': 1, 'ThreadsPerCore': 1}, 'CapacityReservationSpecification': {'CapacityReservationPreference': 'open'}, 'HibernationOptions': {'Configured': False}, 'MetadataOptions': {'State': 'applied', 'HttpTokens': 'optional', 'HttpPutResponseHopLimit': 1, 'HttpEndpoint': 'enabled'}}], 'OwnerId': '398071662916', 'ReservationId': 'r-0ee0dc946330f79a5'}, {'Groups': [], 'Instances': [{'AmiLaunchIndex': 0, 'ImageId': 'ami-054a31f1b3bf90920', 'InstanceId': 'i-04a6c82e003da5a47', 'InstanceType': 't2.micro', 'KeyName': 'teste', 'LaunchTime': datetime.datetime(2021, 5, 14, 11, 1, 59, tzinfo=tzutc()), 'Monitoring': {'State': 'disabled'}, 'Placement': {'AvailabilityZone': 'sa-east-1c', 'GroupName': '', 'Tenancy': 'default'}, 'PrivateDnsName': 'ip-172-31-42-203.sa-east-1.compute.internal', 'PrivateIpAddress': '172.31.42.203', 'ProductCodes': [], 'PublicDnsName': '', 'State': {'Code': 80, 'Name': 'stopped'}, 'StateTransitionReason': 'User initiated (2021-05-14 18:55:41 GMT)', 'SubnetId': 'subnet-999feec2', 'VpcId': 'vpc-ff619899', 'Architecture': 'x86_64', 'BlockDeviceMappings': [{'DeviceName': '/dev/sda1', 'Ebs': {'AttachTime': datetime.datetime(2021, 5, 11, 22, 15, 37, tzinfo=tzutc()), 'DeleteOnTermination': True, 'Status': 'attached', 'VolumeId': 'vol-04d5348f95b5ed473'}}], 'ClientToken': '', 'EbsOptimized': False, 'EnaSupport': True, 'Hypervisor': 'xen', 'NetworkInterfaces': [{'Attachment': {'AttachTime': datetime.datetime(2021, 5, 11, 22, 15, 36, tzinfo=tzutc()), 'AttachmentId': 'eni-attach-0929b7ca57d06d880', 'DeleteOnTermination': True, 'DeviceIndex': 0, 'Status': 'attached'}, 'Description': '', 'Groups': [{'GroupName': 'launch-wizard-3', 'GroupId': 'sg-04c2cbb56a37c8876'}], 'Ipv6Addresses': [], 'MacAddress': '0a:5c:4c:3f:e1:12', 'NetworkInterfaceId': 'eni-0651b06fb7376ea17', 'OwnerId': '398071662916', 'PrivateDnsName': 'ip-172-31-42-203.sa-east-1.compute.internal', 'PrivateIpAddress': '172.31.42.203', 'PrivateIpAddresses': [{'Primary': True, 'PrivateDnsName': 'ip-172-31-42-203.sa-east-1.compute.internal', 'PrivateIpAddress': '172.31.42.203'}], 'SourceDestCheck': True, 'Status': 'in-use', 'SubnetId': 'subnet-999feec2', 'VpcId': 'vpc-ff619899', 'InterfaceType': 'interface'}], 'RootDeviceName': '/dev/sda1', 'RootDeviceType': 'ebs', 'SecurityGroups': [{'GroupName': 'launch-wizard-3', 'GroupId': 'sg-04c2cbb56a37c8876'}], 'SourceDestCheck': True, 'StateReason': {'Code': 'Client.UserInitiatedShutdown', 'Message': 'Client.UserInitiatedShutdown: User initiated shutdown'}, 'VirtualizationType': 'hvm', 'CpuOptions': {'CoreCount': 1, 'ThreadsPerCore': 1}, 'CapacityReservationSpecification': {'CapacityReservationPreference': 'open'}, 'HibernationOptions': {'Configured': False}, 'MetadataOptions': {'State': 'applied', 'HttpTokens': 'optional', 'HttpPutResponseHopLimit': 1, 'HttpEndpoint': 'enabled'}}], 'OwnerId': '398071662916', 'ReservationId': 'r-0d2de1c9493288c32'}], 'ResponseMetadata': {'RequestId': '304785ec-10ff-4657-ac9e-516cea6841e0', 'HTTPStatusCode': 200, 'HTTPHeaders': {'x-amzn-requestid': '304785ec-10ff-4657-ac9e-516cea6841e0', 'cache-control': 'no-cache, no-store', 'strict-transport-security': 'max-age=31536000; includeSubDomains', 'content-type': 'text/xml;charset=UTF-8', 'transfer-encoding': 'chunked', 'vary': 'accept-encoding', 'date': 'Mon, 17 May 2021 12:26:15 GMT', 'server': 'AmazonEC2'}, 'RetryAttempts': 0}}\n"
     ]
    }
   ],
   "source": [
    "ec2 = boto3.client('ec2')\n",
    "response = ec2.describe_instances()\n",
    "print(response)"
   ]
  },
  {
   "cell_type": "markdown",
   "metadata": {},
   "source": [
    "## filtrando parte da informação\n",
    "* instanceid\n",
    "* Estado da instÂncia (parada, rodando, pendente, etc)\n",
    "* Ip Privado\n",
    "* Nome público"
   ]
  },
  {
   "cell_type": "code",
   "execution_count": 134,
   "metadata": {},
   "outputs": [
    {
     "name": "stdout",
     "output_type": "stream",
     "text": [
      "Quantidade de instâncias criadas:  3\n",
      "i-086c823ec7054b54e stopped 172.31.10.198 \n",
      "i-0b353d08ba1f647fb stopped 172.31.9.141 \n",
      "i-04a6c82e003da5a47 stopped 172.31.42.203 \n"
     ]
    }
   ],
   "source": [
    "ec2 = boto3.client('ec2')\n",
    "response = ec2.describe_instances()\n",
    "R=response['Reservations']\n",
    "\n",
    "print('Quantidade de instâncias criadas: ', len(R))\n",
    "\n",
    "for i in range(0,len(R)):\n",
    "    G=R[i]\n",
    "    I=G['Instances']\n",
    "    #print(I[0])\n",
    "    \n",
    "    print(I[0]['InstanceId'], I[0]['State']['Name'], I[0]['PrivateIpAddress'], I[0]['PublicDnsName'])"
   ]
  },
  {
   "cell_type": "markdown",
   "metadata": {},
   "source": [
    "## criando lista de instâncias paradas"
   ]
  },
  {
   "cell_type": "code",
   "execution_count": 144,
   "metadata": {},
   "outputs": [
    {
     "name": "stdout",
     "output_type": "stream",
     "text": [
      "Quantidade de instâncias criadas:  3\n",
      "i-086c823ec7054b54e running 172.31.10.198 ec2-18-228-30-183.sa-east-1.compute.amazonaws.com\n",
      "i-0b353d08ba1f647fb running 172.31.9.141 ec2-18-231-171-86.sa-east-1.compute.amazonaws.com\n",
      "i-04a6c82e003da5a47 running 172.31.42.203 ec2-18-231-147-208.sa-east-1.compute.amazonaws.com\n",
      "paradas\n",
      "[]\n",
      "rodando\n",
      "['i-086c823ec7054b54e', 'i-0b353d08ba1f647fb', 'i-04a6c82e003da5a47']\n"
     ]
    }
   ],
   "source": [
    "instancias_paradas=[]\n",
    "instancias_rodando=[]\n",
    "\n",
    "ec2 = boto3.client('ec2')\n",
    "response = ec2.describe_instances()\n",
    "R=response['Reservations']\n",
    "\n",
    "print('Quantidade de instâncias criadas: ', len(R))\n",
    "\n",
    "for i in range(0,len(R)):\n",
    "    G=R[i]\n",
    "    I=G['Instances']\n",
    "    \n",
    "    print(I[0]['InstanceId'], I[0]['State']['Name'], I[0]['PrivateIpAddress'], I[0]['PublicDnsName'])\n",
    "\n",
    "    if (I[0]['State']['Name']=='stopped'):\n",
    "        instancias_paradas.append(I[0]['InstanceId'])\n",
    "    if (I[0]['State']['Name']=='running'):\n",
    "        instancias_rodando.append(I[0]['InstanceId'])\n",
    "print('paradas')\n",
    "print(instancias_paradas)\n",
    "print('rodando')\n",
    "print(instancias_rodando)"
   ]
  },
  {
   "cell_type": "markdown",
   "metadata": {},
   "source": [
    "## percorre lista de instâncias paradas e inicia"
   ]
  },
  {
   "cell_type": "code",
   "execution_count": 136,
   "metadata": {},
   "outputs": [
    {
     "name": "stdout",
     "output_type": "stream",
     "text": [
      "i-086c823ec7054b54e\n",
      "{'StartingInstances': [{'CurrentState': {'Code': 0, 'Name': 'pending'}, 'InstanceId': 'i-086c823ec7054b54e', 'PreviousState': {'Code': 80, 'Name': 'stopped'}}], 'ResponseMetadata': {'RequestId': 'fa0fc863-4f4b-4f60-8bd4-cbafd3e4c5f1', 'HTTPStatusCode': 200, 'HTTPHeaders': {'x-amzn-requestid': 'fa0fc863-4f4b-4f60-8bd4-cbafd3e4c5f1', 'cache-control': 'no-cache, no-store', 'strict-transport-security': 'max-age=31536000; includeSubDomains', 'content-type': 'text/xml;charset=UTF-8', 'content-length': '579', 'date': 'Mon, 17 May 2021 14:18:32 GMT', 'server': 'AmazonEC2'}, 'RetryAttempts': 0}}\n",
      "i-0b353d08ba1f647fb\n",
      "{'StartingInstances': [{'CurrentState': {'Code': 0, 'Name': 'pending'}, 'InstanceId': 'i-0b353d08ba1f647fb', 'PreviousState': {'Code': 80, 'Name': 'stopped'}}], 'ResponseMetadata': {'RequestId': '30121bdd-d3c1-47b9-92f3-b6aacbd71ed3', 'HTTPStatusCode': 200, 'HTTPHeaders': {'x-amzn-requestid': '30121bdd-d3c1-47b9-92f3-b6aacbd71ed3', 'cache-control': 'no-cache, no-store', 'strict-transport-security': 'max-age=31536000; includeSubDomains', 'content-type': 'text/xml;charset=UTF-8', 'content-length': '579', 'date': 'Mon, 17 May 2021 14:18:33 GMT', 'server': 'AmazonEC2'}, 'RetryAttempts': 0}}\n",
      "i-04a6c82e003da5a47\n",
      "{'StartingInstances': [{'CurrentState': {'Code': 0, 'Name': 'pending'}, 'InstanceId': 'i-04a6c82e003da5a47', 'PreviousState': {'Code': 80, 'Name': 'stopped'}}], 'ResponseMetadata': {'RequestId': '44d1846e-7219-47df-8823-a608a1708641', 'HTTPStatusCode': 200, 'HTTPHeaders': {'x-amzn-requestid': '44d1846e-7219-47df-8823-a608a1708641', 'cache-control': 'no-cache, no-store', 'strict-transport-security': 'max-age=31536000; includeSubDomains', 'content-type': 'text/xml;charset=UTF-8', 'content-length': '579', 'date': 'Mon, 17 May 2021 14:18:33 GMT', 'server': 'AmazonEC2'}, 'RetryAttempts': 0}}\n"
     ]
    }
   ],
   "source": [
    "ec2 = boto3.client('ec2')\n",
    "\n",
    "for inst in instancias_paradas:\n",
    "    print(inst)\n",
    "    \n",
    "    response = ec2.start_instances(\n",
    "    InstanceIds=[\n",
    "        inst, \n",
    "    ],\n",
    "    )\n",
    "\n",
    "    print(response)"
   ]
  },
  {
   "cell_type": "markdown",
   "metadata": {},
   "source": [
    "## percorre lista de instâncias paradas e inicia"
   ]
  },
  {
   "cell_type": "code",
   "execution_count": 133,
   "metadata": {},
   "outputs": [],
   "source": [
    "\n",
    "ec2 = boto3.client('ec2')\n",
    "\n",
    "for inst in instancias_rodando:\n",
    "    print(inst)\n",
    "    \n",
    "    response = ec2.stop_instances(\n",
    "    InstanceIds=[\n",
    "        inst, \n",
    "    ],\n",
    "    )\n",
    "\n",
    "    print(response)"
   ]
  },
  {
   "cell_type": "code",
   "execution_count": null,
   "metadata": {},
   "outputs": [],
   "source": []
  },
  {
   "cell_type": "code",
   "execution_count": null,
   "metadata": {},
   "outputs": [],
   "source": []
  },
  {
   "cell_type": "code",
   "execution_count": 110,
   "metadata": {},
   "outputs": [],
   "source": [
    "import pandas as pd\n",
    "import random \n",
    "import numpy as np\n",
    "\n",
    "import numpy as np\n",
    "from pickle import load\n",
    "import pickle"
   ]
  },
  {
   "cell_type": "code",
   "execution_count": null,
   "metadata": {},
   "outputs": [],
   "source": [
    "## lendo arquivo de entrada"
   ]
  },
  {
   "cell_type": "code",
   "execution_count": 80,
   "metadata": {},
   "outputs": [
    {
     "data": {
      "text/html": [
       "<div>\n",
       "<style scoped>\n",
       "    .dataframe tbody tr th:only-of-type {\n",
       "        vertical-align: middle;\n",
       "    }\n",
       "\n",
       "    .dataframe tbody tr th {\n",
       "        vertical-align: top;\n",
       "    }\n",
       "\n",
       "    .dataframe thead th {\n",
       "        text-align: right;\n",
       "    }\n",
       "</style>\n",
       "<table border=\"1\" class=\"dataframe\">\n",
       "  <thead>\n",
       "    <tr style=\"text-align: right;\">\n",
       "      <th></th>\n",
       "      <th>Unnamed: 0</th>\n",
       "      <th>mpg</th>\n",
       "      <th>cylinders</th>\n",
       "      <th>displacement</th>\n",
       "      <th>horsepower</th>\n",
       "      <th>weight</th>\n",
       "      <th>acceleration</th>\n",
       "      <th>year</th>\n",
       "      <th>originL</th>\n",
       "    </tr>\n",
       "  </thead>\n",
       "  <tbody>\n",
       "    <tr>\n",
       "      <th>count</th>\n",
       "      <td>397.000000</td>\n",
       "      <td>397.000000</td>\n",
       "      <td>397.000000</td>\n",
       "      <td>397.000000</td>\n",
       "      <td>397.000000</td>\n",
       "      <td>397.000000</td>\n",
       "      <td>397.000000</td>\n",
       "      <td>397.000000</td>\n",
       "      <td>397.000000</td>\n",
       "    </tr>\n",
       "    <tr>\n",
       "      <th>mean</th>\n",
       "      <td>198.000000</td>\n",
       "      <td>23.515869</td>\n",
       "      <td>5.458438</td>\n",
       "      <td>193.532746</td>\n",
       "      <td>104.209068</td>\n",
       "      <td>2970.261965</td>\n",
       "      <td>15.555668</td>\n",
       "      <td>75.994962</td>\n",
       "      <td>0.574307</td>\n",
       "    </tr>\n",
       "    <tr>\n",
       "      <th>std</th>\n",
       "      <td>114.748275</td>\n",
       "      <td>7.825804</td>\n",
       "      <td>1.701577</td>\n",
       "      <td>104.379583</td>\n",
       "      <td>38.338262</td>\n",
       "      <td>847.904119</td>\n",
       "      <td>2.749995</td>\n",
       "      <td>3.690005</td>\n",
       "      <td>0.802549</td>\n",
       "    </tr>\n",
       "    <tr>\n",
       "      <th>min</th>\n",
       "      <td>0.000000</td>\n",
       "      <td>9.000000</td>\n",
       "      <td>3.000000</td>\n",
       "      <td>68.000000</td>\n",
       "      <td>46.000000</td>\n",
       "      <td>1613.000000</td>\n",
       "      <td>8.000000</td>\n",
       "      <td>70.000000</td>\n",
       "      <td>0.000000</td>\n",
       "    </tr>\n",
       "    <tr>\n",
       "      <th>25%</th>\n",
       "      <td>99.000000</td>\n",
       "      <td>17.500000</td>\n",
       "      <td>4.000000</td>\n",
       "      <td>104.000000</td>\n",
       "      <td>75.000000</td>\n",
       "      <td>2223.000000</td>\n",
       "      <td>13.800000</td>\n",
       "      <td>73.000000</td>\n",
       "      <td>0.000000</td>\n",
       "    </tr>\n",
       "    <tr>\n",
       "      <th>50%</th>\n",
       "      <td>198.000000</td>\n",
       "      <td>23.000000</td>\n",
       "      <td>4.000000</td>\n",
       "      <td>146.000000</td>\n",
       "      <td>93.000000</td>\n",
       "      <td>2800.000000</td>\n",
       "      <td>15.500000</td>\n",
       "      <td>76.000000</td>\n",
       "      <td>0.000000</td>\n",
       "    </tr>\n",
       "    <tr>\n",
       "      <th>75%</th>\n",
       "      <td>297.000000</td>\n",
       "      <td>29.000000</td>\n",
       "      <td>8.000000</td>\n",
       "      <td>262.000000</td>\n",
       "      <td>125.000000</td>\n",
       "      <td>3609.000000</td>\n",
       "      <td>17.100000</td>\n",
       "      <td>79.000000</td>\n",
       "      <td>1.000000</td>\n",
       "    </tr>\n",
       "    <tr>\n",
       "      <th>max</th>\n",
       "      <td>396.000000</td>\n",
       "      <td>46.600000</td>\n",
       "      <td>8.000000</td>\n",
       "      <td>455.000000</td>\n",
       "      <td>230.000000</td>\n",
       "      <td>5140.000000</td>\n",
       "      <td>24.800000</td>\n",
       "      <td>82.000000</td>\n",
       "      <td>2.000000</td>\n",
       "    </tr>\n",
       "  </tbody>\n",
       "</table>\n",
       "</div>"
      ],
      "text/plain": [
       "       Unnamed: 0         mpg   cylinders  displacement  horsepower  \\\n",
       "count  397.000000  397.000000  397.000000    397.000000  397.000000   \n",
       "mean   198.000000   23.515869    5.458438    193.532746  104.209068   \n",
       "std    114.748275    7.825804    1.701577    104.379583   38.338262   \n",
       "min      0.000000    9.000000    3.000000     68.000000   46.000000   \n",
       "25%     99.000000   17.500000    4.000000    104.000000   75.000000   \n",
       "50%    198.000000   23.000000    4.000000    146.000000   93.000000   \n",
       "75%    297.000000   29.000000    8.000000    262.000000  125.000000   \n",
       "max    396.000000   46.600000    8.000000    455.000000  230.000000   \n",
       "\n",
       "            weight  acceleration        year     originL  \n",
       "count   397.000000    397.000000  397.000000  397.000000  \n",
       "mean   2970.261965     15.555668   75.994962    0.574307  \n",
       "std     847.904119      2.749995    3.690005    0.802549  \n",
       "min    1613.000000      8.000000   70.000000    0.000000  \n",
       "25%    2223.000000     13.800000   73.000000    0.000000  \n",
       "50%    2800.000000     15.500000   76.000000    0.000000  \n",
       "75%    3609.000000     17.100000   79.000000    1.000000  \n",
       "max    5140.000000     24.800000   82.000000    2.000000  "
      ]
     },
     "execution_count": 80,
     "metadata": {},
     "output_type": "execute_result"
    }
   ],
   "source": [
    "df = pd.read_csv('../modelo/auto_final.csv') \n",
    "df.describe()"
   ]
  },
  {
   "cell_type": "markdown",
   "metadata": {},
   "source": [
    "## Criando entradas aleatórias de predição"
   ]
  },
  {
   "cell_type": "code",
   "execution_count": 107,
   "metadata": {},
   "outputs": [],
   "source": [
    "def createRow(nRows):\n",
    "    row=np.zeros(nRows*7)\n",
    "    row = row.reshape(nRows,7)\n",
    "    for i in range(nRows):\n",
    "        row[i,0] = random.randint(df['cylinders'].min(),df['cylinders'].max()) \n",
    "        row[i,1] = random.randint(df['displacement'].min(),df['displacement'].max()) \n",
    "        row[i,2] = random.randint(df['horsepower'].min(),df['horsepower'].max()) \n",
    "        row[i,3] = random.randint(df['weight'].min(),df['weight'].max()) \n",
    "        row[i,4] = random.uniform(df['acceleration'].min(),df['acceleration'].max()) \n",
    "        row[i,5] = random.randint(df['year'].min(),df['year'].max()) \n",
    "        row[i,6] = random.randint(df['originL'].min(),df['originL'].max())\n",
    "    #print(row)\n",
    "    \n",
    "    return(row)"
   ]
  },
  {
   "cell_type": "code",
   "execution_count": 130,
   "metadata": {},
   "outputs": [
    {
     "name": "stdout",
     "output_type": "stream",
     "text": [
      "(10000, 7)\n"
     ]
    }
   ],
   "source": [
    "arr = createRow(10000)\n",
    "print(arr.shape)\n",
    "\n",
    "np.save('input', arr)"
   ]
  },
  {
   "cell_type": "markdown",
   "metadata": {},
   "source": [
    "# fazendo predição a partir de arquivo"
   ]
  },
  {
   "cell_type": "code",
   "execution_count": 131,
   "metadata": {},
   "outputs": [
    {
     "name": "stdout",
     "output_type": "stream",
     "text": [
      "(10000, 1)\n"
     ]
    }
   ],
   "source": [
    "Xpred=np.load('input.npy')\n",
    "filename='../modelo/model.sav'\n",
    "model = pickle.load(open(filename, 'rb'))    \n",
    "    \n",
    "scaler = load(open('../modelo/scaler.pkl', 'rb'))\n",
    "Xpred = scaler.transform(Xpred)\n",
    "predictions = model.predict(Xpred)\n",
    "\n",
    "print(predictions.shape)\n",
    "pred=str(predictions)\n",
    "\n",
    "np.save('output', pred)\n"
   ]
  },
  {
   "cell_type": "markdown",
   "metadata": {},
   "source": [
    "## Automatizando carga de trabalho com EC2\n",
    "* iniciando instâncias\n",
    "* conexão SSH\n",
    "* copiando arquivo de entrada\n",
    "* executando conteiner\n",
    "* copiando arquivo de saída\n",
    "* parando instâncias"
   ]
  },
  {
   "cell_type": "markdown",
   "metadata": {},
   "source": [
    "```\n",
    "scp -i teste.pem input.npy ubuntu@ec2-18-231-147-208.sa-east-1.compute.amazonaws.com:/home/ubuntu/files\n",
    "ssh -i teste.pem ubuntu@ec2-18-231-147-208.sa-east-1.compute.amazonaws.com 'sudo docker run -v /home/ubuntu/files:/tmp/files/ silviostanzani/scikit:predAWS.1'\n",
    "scp -i teste.pem ubuntu@ec2-18-231-147-208.sa-east-1.compute.amazonaws.com:/home/ubuntu/files/output.npy .\n",
    "```"
   ]
  }
 ],
 "metadata": {
  "kernelspec": {
   "display_name": "Python 3",
   "language": "python",
   "name": "python3"
  },
  "language_info": {
   "codemirror_mode": {
    "name": "ipython",
    "version": 3
   },
   "file_extension": ".py",
   "mimetype": "text/x-python",
   "name": "python",
   "nbconvert_exporter": "python",
   "pygments_lexer": "ipython3",
   "version": "3.8.3"
  }
 },
 "nbformat": 4,
 "nbformat_minor": 4
}
